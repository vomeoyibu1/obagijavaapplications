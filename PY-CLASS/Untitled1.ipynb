{
 "cells": [
  {
   "cell_type": "code",
   "execution_count": 1,
   "id": "30301989",
   "metadata": {},
   "outputs": [
    {
     "name": "stdout",
     "output_type": "stream",
     "text": [
      "Enter a word: tunde\n",
      "Enter a word: ednut\n",
      "True\n",
      "are anagrams\n"
     ]
    }
   ],
   "source": [
    "##  Exercise 1\n",
    "\n",
    "word1 = input('Enter a word: ')\n",
    "word2= input('Enter a word: ')\n",
    "def are_anagrams(str1, str2):\n",
    "    str1 = str1.replace(\" \", \"\").lower()\n",
    "    str2 = str2.replace(\" \", \"\").lower()\n",
    "    return sorted(str1) == sorted(str2)\n",
    "print(are_anagrams(word1, word2))\n",
    "print('are anagrams')"
   ]
  },
  {
   "cell_type": "code",
   "execution_count": 2,
   "id": "a6b39be4",
   "metadata": {},
   "outputs": [
    {
     "name": "stdout",
     "output_type": "stream",
     "text": [
      "[0, 1, 1, 2, 3, 5, 8, 13, 21, 34]\n",
      "fibonacci\n"
     ]
    }
   ],
   "source": [
    "## Exercise 2\n",
    "\n",
    "def fibonacci(n):\n",
    "    fib_sequence = []\n",
    "    a, b = 0, 1\n",
    "    for _ in range(n):\n",
    "        fib_sequence.append(a)\n",
    "        a, b = b, a + b\n",
    "    return fib_sequence\n",
    "n = 10 \n",
    "print(fibonacci(n))  \n",
    "print('fibonacci')"
   ]
  },
  {
   "cell_type": "code",
   "execution_count": 3,
   "id": "98705310",
   "metadata": {},
   "outputs": [
    {
     "name": "stdout",
     "output_type": "stream",
     "text": [
      "(3, 7)\n"
     ]
    }
   ],
   "source": [
    "## Exercise 3\n",
    "\n",
    "def count_vowels_and_consonants(s):\n",
    "    vowels = \"aeiouAEIOU\"\n",
    "    consonants = \"bcdfghjklmnpqrstvwxyzBCDFGHJKLMNPQRSTVWXYZ\"\n",
    "    vowel_count = 0\n",
    "    consonant_count = 0\n",
    "    \n",
    "    for char in s:\n",
    "        if char in vowels:\n",
    "            vowel_count += 1\n",
    "        elif char in consonants:\n",
    "            consonant_count += 1\n",
    "    \n",
    "    return vowel_count, consonant_count\n",
    "result = count_vowels_and_consonants(\"Hello World!\")  \n",
    "print(result)"
   ]
  },
  {
   "cell_type": "code",
   "execution_count": 4,
   "id": "811d1706",
   "metadata": {},
   "outputs": [
    {
     "name": "stdout",
     "output_type": "stream",
     "text": [
      "Sorted list by second element: [(4, 1), (3, 2), (1, 5), (2, 8)]\n"
     ]
    }
   ],
   "source": [
    "## Exercise 7\n",
    "def sort_by_second_element(lst):\n",
    "    \n",
    "    def get_second_element(tup):\n",
    "        return tup[1]\n",
    "    \n",
    "    for i in range(len(lst)):\n",
    "        for j in range(i + 1, len(lst)):\n",
    "            if get_second_element(lst[i]) > get_second_element(lst[j]):\n",
    "                # Swap the tuples if they are out of order\n",
    "                lst[i], lst[j] = lst[j], lst[i]\n",
    "    \n",
    "    return lst\n",
    "\n",
    "tuple_list = [(1, 5), (3, 2), (2, 8), (4, 1)]\n",
    "sorted_list = sort_by_second_element(tuple_list)\n",
    "print(\"Sorted list by second element:\", sorted_list)"
   ]
  },
  {
   "cell_type": "code",
   "execution_count": 5,
   "id": "a811a8ce",
   "metadata": {},
   "outputs": [
    {
     "name": "stdout",
     "output_type": "stream",
     "text": [
      "The sum of the digits is: 10\n"
     ]
    }
   ],
   "source": [
    "## Exercise 8\n",
    "def sum_of_digits(number):\n",
    "    total = 0\n",
    "\n",
    "    def get_last_digit(num):\n",
    "        return num - (num // 10) * 10\n",
    "\n",
    "    def remove_last_digit(num):\n",
    "        return num // 10\n",
    "\n",
    "    while number > 0:\n",
    "        last_digit = get_last_digit(number)\n",
    "        total += last_digit\n",
    "        number = remove_last_digit(number)\n",
    "    \n",
    "    return total\n",
    "\n",
    "number = 1234\n",
    "result = sum_of_digits(number)\n",
    "print(\"The sum of the digits is:\", result)"
   ]
  },
  {
   "cell_type": "code",
   "execution_count": 6,
   "id": "430f66e8",
   "metadata": {},
   "outputs": [
    {
     "name": "stdout",
     "output_type": "stream",
     "text": [
      "Flattened list: [1, 2, 3, 4, 5, 6, 7, 8, 9, 10]\n"
     ]
    }
   ],
   "source": [
    "## Exercise 9\n",
    "def flatten(nested_list):\n",
    "    flattened = []\n",
    "    \n",
    "    def is_list(item):\n",
    "        return type(item) == list\n",
    "    \n",
    "    def manual_extend(lst, items):\n",
    "        for item in items:\n",
    "            lst.append(item)\n",
    "    \n",
    "    for item in nested_list:\n",
    "        if is_list(item):\n",
    "            manual_extend(flattened, flatten(item))\n",
    "        else:\n",
    "            flattened.append(item)\n",
    "    return flattened\n",
    "\n",
    "nested_list = [1, [2, 3, [4, 5]], 6, [7, [8, 9]], 10]\n",
    "flattened_list = flatten(nested_list)\n",
    "print(\"Flattened list:\", flattened_list)"
   ]
  },
  {
   "cell_type": "code",
   "execution_count": 8,
   "id": "dd11b1ee",
   "metadata": {},
   "outputs": [
    {
     "name": "stdout",
     "output_type": "stream",
     "text": [
      "The longest word is: oldruggedcross\n"
     ]
    }
   ],
   "source": [
    "## Exercise 10\n",
    "def longest_word(words):\n",
    "    longest = \"\"\n",
    "    for word in words:\n",
    "        count = 0\n",
    "        for char in word:\n",
    "            count += 1  \n",
    "        if count > len(longest):  \n",
    "            longest = word\n",
    "    return longest\n",
    "words_list = [\"red\", \"orange\", \"oldruggedcross\", \"golden\"]\n",
    "longest = longest_word(words_list)\n",
    "print(\"The longest word is:\", longest)"
   ]
  },
  {
   "cell_type": "code",
   "execution_count": null,
   "id": "20d55695",
   "metadata": {},
   "outputs": [],
   "source": []
  }
 ],
 "metadata": {
  "kernelspec": {
   "display_name": "Python 3 (ipykernel)",
   "language": "python",
   "name": "python3"
  },
  "language_info": {
   "codemirror_mode": {
    "name": "ipython",
    "version": 3
   },
   "file_extension": ".py",
   "mimetype": "text/x-python",
   "name": "python",
   "nbconvert_exporter": "python",
   "pygments_lexer": "ipython3",
   "version": "3.11.4"
  }
 },
 "nbformat": 4,
 "nbformat_minor": 5
}
